{
 "cells": [
  {
   "cell_type": "markdown",
   "id": "a917afd7",
   "metadata": {},
   "source": [
    "# Data Science Tools and Ecosystem"
   ]
  },
  {
   "cell_type": "markdown",
   "id": "a87c2448",
   "metadata": {},
   "source": [
    "In this notebook, Data Science tools and ecosystem are summerized."
   ]
  },
  {
   "cell_type": "markdown",
   "id": "212064e6",
   "metadata": {},
   "source": [
    "**Objectives:\n",
    "- Popular languages used by data scientists\n",
    "- Commonly used libraries in data science\n",
    "- Some examples of arithmatic expressions\n",
    "- Convert 200 minutes to hours"
   ]
  },
  {
   "cell_type": "markdown",
   "id": "46ba64c6",
   "metadata": {},
   "source": [
    "Some of the popular languages data scientists use are"
   ]
  },
  {
   "cell_type": "markdown",
   "id": "ff690d67",
   "metadata": {},
   "source": [
    "1. Python\n",
    "2. R\n",
    "3. Sql"
   ]
  },
  {
   "cell_type": "markdown",
   "id": "95811a6a",
   "metadata": {},
   "source": [
    "Some of the commonly used libraries by data scientists include:\n",
    "1. Tensorflow\n",
    "2. Numpy\n",
    "3. Pandas"
   ]
  },
  {
   "cell_type": "markdown",
   "id": "d2ed79ba",
   "metadata": {},
   "source": [
    "| Data Science Tools |\n",
    "|--------------------|\n",
    "|Jupyter Notebook |\n",
    "| Matlab |\n",
    "| Matplotlib |"
   ]
  },
  {
   "cell_type": "markdown",
   "id": "a92c2570",
   "metadata": {},
   "source": [
    "### Below are the few examples of evaluating arithmetic expressions in Python"
   ]
  },
  {
   "cell_type": "markdown",
   "id": "6b0bd1f9",
   "metadata": {},
   "source": [
    "This is a simple arithmatic expression to multiply then add numbers"
   ]
  },
  {
   "cell_type": "code",
   "execution_count": 13,
   "id": "1c001ab0",
   "metadata": {},
   "outputs": [
    {
     "data": {
      "text/plain": [
       "17"
      ]
     },
     "execution_count": 13,
     "metadata": {},
     "output_type": "execute_result"
    }
   ],
   "source": [
    "(3*4)+5"
   ]
  },
  {
   "cell_type": "markdown",
   "id": "2ff3e2b0",
   "metadata": {},
   "source": [
    "This will convert 200 minutes to hours by dividing by 60"
   ]
  },
  {
   "cell_type": "code",
   "execution_count": 8,
   "id": "2e3c3e40",
   "metadata": {},
   "outputs": [
    {
     "name": "stdout",
     "output_type": "stream",
     "text": [
      "3.3333333333333335\n"
     ]
    }
   ],
   "source": [
    "minutes = 200\n",
    "hours =float(200/60)\n",
    "print(float(hours))"
   ]
  },
  {
   "cell_type": "markdown",
   "id": "0725547f",
   "metadata": {},
   "source": [
    "## Author\n",
    "Sreejith"
   ]
  }
 ],
 "metadata": {
  "kernelspec": {
   "display_name": "Python 3 (ipykernel)",
   "language": "python",
   "name": "python3"
  },
  "language_info": {
   "codemirror_mode": {
    "name": "ipython",
    "version": 3
   },
   "file_extension": ".py",
   "mimetype": "text/x-python",
   "name": "python",
   "nbconvert_exporter": "python",
   "pygments_lexer": "ipython3",
   "version": "3.10.9"
  }
 },
 "nbformat": 4,
 "nbformat_minor": 5
}
